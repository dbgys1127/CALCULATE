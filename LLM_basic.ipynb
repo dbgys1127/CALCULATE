{
  "nbformat": 4,
  "nbformat_minor": 0,
  "metadata": {
    "colab": {
      "provenance": [],
      "authorship_tag": "ABX9TyPYtP5PGoqZFd9QRbOzHmcA",
      "include_colab_link": true
    },
    "kernelspec": {
      "name": "python3",
      "display_name": "Python 3"
    },
    "language_info": {
      "name": "python"
    }
  },
  "cells": [
    {
      "cell_type": "markdown",
      "metadata": {
        "id": "view-in-github",
        "colab_type": "text"
      },
      "source": [
        "<a href=\"https://colab.research.google.com/github/dbgys1127/CALCULATE/blob/main/LLM_basic.ipynb\" target=\"_parent\"><img src=\"https://colab.research.google.com/assets/colab-badge.svg\" alt=\"Open In Colab\"/></a>"
      ]
    },
    {
      "cell_type": "markdown",
      "source": [
        "# **LLM 이란?**\n",
        "\n",
        "* 엄청나게 많은 글(데이터)을 학습해서, 사람처럼 글을 이해하고 만들어내는 똑똑한 AI야.\n",
        "* Language Model은 문장에서 다음에 올 단어가 뭘까?\"를 예측하는 모델\n",
        "* Large가 붙는 이유는 훈련에 들어간 데이터 양이나 모델 크기가 상상을 초월하게 크다는 뜻이야.\n",
        "\n",
        "## LLM은 어떻게 학습할까?\n",
        "\n",
        "수십억~수조 개의 문장을 인터넷에서 긁어와.  \n",
        "(위키백과, 뉴스, 블로그, 책, 코드... 심지어 웹페이지 댓글 같은 것도!)\n",
        "\n",
        "그 문장을 보고\n",
        "\n",
        "- \"이 문장에서 다음 단어가 뭘까?\"\n",
        "- \"이 문장의 뜻은 뭘까?\" 를 맞히는 게임을 엄청 많이 해.\n",
        "\n",
        "이 과정을 하면서\n",
        "\n",
        "- 문맥 이해\n",
        "- 단어 관계\n",
        "- 세계 지식\n",
        "\n",
        "이런 것들을 스스로 배우는 거야.\n",
        "\n",
        "👉 그래서 LLM은 **\"글을 읽고 다음을 예측하는 데 특화된 초고수\"**가 된 거지.\n",
        "\n",
        "---\n",
        "\n",
        "### 왜 이렇게 모델이 커야 할까?\n",
        "\n",
        "간단히 말하면:\n",
        "\n",
        "| 이유             | 설명                                                                 |\n",
        "|:-----------------|:----------------------------------------------------------------------|\n",
        "| **세상은 복잡해!** | 사람들의 말투, 주제, 문화가 다 다르니까 더 많이 배워야 해.            |\n",
        "| **다양한 상황 대응** | 단순한 질문뿐 아니라 어려운 논리적 질문에도 답하려면 복잡한 패턴을 알아야 해. |\n",
        "| **상상력 키우기**  | 글쓰기, 요약, 번역처럼 \"단순 암기\"를 넘는 창의력이 필요해.            |\n",
        "\n",
        "**→ 데이터 많음 + 뇌(모델 크기) 큼 → 똑똑해진다!** 🧠💥\n",
        "\n",
        "---\n",
        "\n",
        "### 그런데 문제가 하나 생겨...\n",
        "\n",
        "LLM은 기본적으로 **\"모든 걸 다 기억하는\"** 모델이야.\n",
        "\n",
        "그래서 한 번에 다루는 문서 크기가 제한되고,  \n",
        "긴 대화나, 여러 문서 연결 같은 걸 직접 못 해. 😥\n",
        "\n",
        "---\n",
        "\n",
        "### 여기서 등장하는 게 바로 **LangChain!**\n",
        "\n",
        "LangChain이 하는 일은 이거야:\n",
        "\n",
        "- LLM에게 필요한 정보만 골라주고\n",
        "- 기억을 쪼개서 관리하고\n",
        "- 여러 데이터베이스(DB)랑 연결시켜서\n",
        "- \"마치 인간처럼 오래 기억하고 똑똑하게 일\"하게 만드는 거!\n",
        "\n",
        "📦 **LLM은 뇌**  \n",
        "📚 **LangChain은 책장/비서 같은 느낌!**\n",
        "\n",
        "---\n",
        "\n",
        "### 정리 한 방\n",
        "\n",
        "**LLM은 글을 이해하고 생성하는 초거대 뇌,**  \n",
        "**LangChain은 그 뇌를 실생활에 똑똑하게 쓰게 도와주는 비서다.**\n",
        "\n",
        "\n",
        "\n",
        "\n",
        "\n"
      ],
      "metadata": {
        "id": "o_r-mQ5vxZrR"
      }
    },
    {
      "cell_type": "code",
      "source": [
        "!pip install langchain"
      ],
      "metadata": {
        "colab": {
          "base_uri": "https://localhost:8080/"
        },
        "collapsed": true,
        "id": "6UXRM-950Nax",
        "outputId": "9662f9f1-cdc0-4284-ee37-0a015ed2f1e3"
      },
      "execution_count": 5,
      "outputs": [
        {
          "output_type": "stream",
          "name": "stdout",
          "text": [
            "Requirement already satisfied: langchain in /usr/local/lib/python3.11/dist-packages (0.3.24)\n",
            "Requirement already satisfied: langchain-core<1.0.0,>=0.3.55 in /usr/local/lib/python3.11/dist-packages (from langchain) (0.3.55)\n",
            "Requirement already satisfied: langchain-text-splitters<1.0.0,>=0.3.8 in /usr/local/lib/python3.11/dist-packages (from langchain) (0.3.8)\n",
            "Requirement already satisfied: langsmith<0.4,>=0.1.17 in /usr/local/lib/python3.11/dist-packages (from langchain) (0.3.33)\n",
            "Requirement already satisfied: pydantic<3.0.0,>=2.7.4 in /usr/local/lib/python3.11/dist-packages (from langchain) (2.11.3)\n",
            "Requirement already satisfied: SQLAlchemy<3,>=1.4 in /usr/local/lib/python3.11/dist-packages (from langchain) (2.0.40)\n",
            "Requirement already satisfied: requests<3,>=2 in /usr/local/lib/python3.11/dist-packages (from langchain) (2.32.3)\n",
            "Requirement already satisfied: PyYAML>=5.3 in /usr/local/lib/python3.11/dist-packages (from langchain) (6.0.2)\n",
            "Requirement already satisfied: tenacity!=8.4.0,<10.0.0,>=8.1.0 in /usr/local/lib/python3.11/dist-packages (from langchain-core<1.0.0,>=0.3.55->langchain) (9.1.2)\n",
            "Requirement already satisfied: jsonpatch<2.0,>=1.33 in /usr/local/lib/python3.11/dist-packages (from langchain-core<1.0.0,>=0.3.55->langchain) (1.33)\n",
            "Requirement already satisfied: packaging<25,>=23.2 in /usr/local/lib/python3.11/dist-packages (from langchain-core<1.0.0,>=0.3.55->langchain) (24.2)\n",
            "Requirement already satisfied: typing-extensions>=4.7 in /usr/local/lib/python3.11/dist-packages (from langchain-core<1.0.0,>=0.3.55->langchain) (4.13.2)\n",
            "Requirement already satisfied: httpx<1,>=0.23.0 in /usr/local/lib/python3.11/dist-packages (from langsmith<0.4,>=0.1.17->langchain) (0.28.1)\n",
            "Requirement already satisfied: orjson<4.0.0,>=3.9.14 in /usr/local/lib/python3.11/dist-packages (from langsmith<0.4,>=0.1.17->langchain) (3.10.16)\n",
            "Requirement already satisfied: requests-toolbelt<2.0.0,>=1.0.0 in /usr/local/lib/python3.11/dist-packages (from langsmith<0.4,>=0.1.17->langchain) (1.0.0)\n",
            "Requirement already satisfied: zstandard<0.24.0,>=0.23.0 in /usr/local/lib/python3.11/dist-packages (from langsmith<0.4,>=0.1.17->langchain) (0.23.0)\n",
            "Requirement already satisfied: annotated-types>=0.6.0 in /usr/local/lib/python3.11/dist-packages (from pydantic<3.0.0,>=2.7.4->langchain) (0.7.0)\n",
            "Requirement already satisfied: pydantic-core==2.33.1 in /usr/local/lib/python3.11/dist-packages (from pydantic<3.0.0,>=2.7.4->langchain) (2.33.1)\n",
            "Requirement already satisfied: typing-inspection>=0.4.0 in /usr/local/lib/python3.11/dist-packages (from pydantic<3.0.0,>=2.7.4->langchain) (0.4.0)\n",
            "Requirement already satisfied: charset-normalizer<4,>=2 in /usr/local/lib/python3.11/dist-packages (from requests<3,>=2->langchain) (3.4.1)\n",
            "Requirement already satisfied: idna<4,>=2.5 in /usr/local/lib/python3.11/dist-packages (from requests<3,>=2->langchain) (3.10)\n",
            "Requirement already satisfied: urllib3<3,>=1.21.1 in /usr/local/lib/python3.11/dist-packages (from requests<3,>=2->langchain) (2.3.0)\n",
            "Requirement already satisfied: certifi>=2017.4.17 in /usr/local/lib/python3.11/dist-packages (from requests<3,>=2->langchain) (2025.1.31)\n",
            "Requirement already satisfied: greenlet>=1 in /usr/local/lib/python3.11/dist-packages (from SQLAlchemy<3,>=1.4->langchain) (3.2.1)\n",
            "Requirement already satisfied: anyio in /usr/local/lib/python3.11/dist-packages (from httpx<1,>=0.23.0->langsmith<0.4,>=0.1.17->langchain) (4.9.0)\n",
            "Requirement already satisfied: httpcore==1.* in /usr/local/lib/python3.11/dist-packages (from httpx<1,>=0.23.0->langsmith<0.4,>=0.1.17->langchain) (1.0.8)\n",
            "Requirement already satisfied: h11<0.15,>=0.13 in /usr/local/lib/python3.11/dist-packages (from httpcore==1.*->httpx<1,>=0.23.0->langsmith<0.4,>=0.1.17->langchain) (0.14.0)\n",
            "Requirement already satisfied: jsonpointer>=1.9 in /usr/local/lib/python3.11/dist-packages (from jsonpatch<2.0,>=1.33->langchain-core<1.0.0,>=0.3.55->langchain) (3.0.0)\n",
            "Requirement already satisfied: sniffio>=1.1 in /usr/local/lib/python3.11/dist-packages (from anyio->httpx<1,>=0.23.0->langsmith<0.4,>=0.1.17->langchain) (1.3.1)\n"
          ]
        }
      ]
    },
    {
      "cell_type": "markdown",
      "source": [
        "pip install langchain\n",
        "\n",
        "👉 이건 \"langchain\"이라는 파이썬 라이브러리를 설치해줘! 라는 명령어야.\n",
        "\n",
        "pip는 파이썬 패키지 관리자야.\n",
        "(Python의 프로그램/라이브러리를 설치하고 관리하는 도구야.)\n",
        "\n",
        "install은 \"설치하다\"라는 뜻이지?\n",
        "\n",
        "langchain은 설치하려는 라이브러리 이름이야."
      ],
      "metadata": {
        "id": "ACprYMhqtzQv"
      }
    },
    {
      "cell_type": "markdown",
      "source": [
        "pip install langchain"
      ],
      "metadata": {
        "id": "c-RGfXsSsb8D"
      }
    },
    {
      "cell_type": "markdown",
      "source": [
        "OpenAI 모델을 사용할 때 필요한 의존성 라이브러리를 설치하는 방법입니다.\n",
        "\n",
        "Language Model은\n",
        "\n",
        "👉 \"문장에서 다음에 올 단어가 뭘까?\"를 예측하는 모델이야.\n",
        "\n",
        "여기에 Large가 붙은 이유는\n",
        "\n",
        "👉 훈련에 들어간 데이터 양이나 모델 크기가 상상을 초월하게 크다는 뜻이야."
      ],
      "metadata": {
        "id": "W3myPcIQwVL6"
      }
    },
    {
      "cell_type": "code",
      "source": [
        "!pip install langchain-openai"
      ],
      "metadata": {
        "colab": {
          "base_uri": "https://localhost:8080/"
        },
        "collapsed": true,
        "id": "9HiwazacwP1S",
        "outputId": "4ef253e3-be95-42d6-914b-ad0dc377db50"
      },
      "execution_count": 6,
      "outputs": [
        {
          "output_type": "stream",
          "name": "stdout",
          "text": [
            "Requirement already satisfied: langchain-openai in /usr/local/lib/python3.11/dist-packages (0.3.14)\n",
            "Requirement already satisfied: langchain-core<1.0.0,>=0.3.53 in /usr/local/lib/python3.11/dist-packages (from langchain-openai) (0.3.55)\n",
            "Requirement already satisfied: openai<2.0.0,>=1.68.2 in /usr/local/lib/python3.11/dist-packages (from langchain-openai) (1.75.0)\n",
            "Requirement already satisfied: tiktoken<1,>=0.7 in /usr/local/lib/python3.11/dist-packages (from langchain-openai) (0.9.0)\n",
            "Requirement already satisfied: langsmith<0.4,>=0.1.125 in /usr/local/lib/python3.11/dist-packages (from langchain-core<1.0.0,>=0.3.53->langchain-openai) (0.3.33)\n",
            "Requirement already satisfied: tenacity!=8.4.0,<10.0.0,>=8.1.0 in /usr/local/lib/python3.11/dist-packages (from langchain-core<1.0.0,>=0.3.53->langchain-openai) (9.1.2)\n",
            "Requirement already satisfied: jsonpatch<2.0,>=1.33 in /usr/local/lib/python3.11/dist-packages (from langchain-core<1.0.0,>=0.3.53->langchain-openai) (1.33)\n",
            "Requirement already satisfied: PyYAML>=5.3 in /usr/local/lib/python3.11/dist-packages (from langchain-core<1.0.0,>=0.3.53->langchain-openai) (6.0.2)\n",
            "Requirement already satisfied: packaging<25,>=23.2 in /usr/local/lib/python3.11/dist-packages (from langchain-core<1.0.0,>=0.3.53->langchain-openai) (24.2)\n",
            "Requirement already satisfied: typing-extensions>=4.7 in /usr/local/lib/python3.11/dist-packages (from langchain-core<1.0.0,>=0.3.53->langchain-openai) (4.13.2)\n",
            "Requirement already satisfied: pydantic<3.0.0,>=2.5.2 in /usr/local/lib/python3.11/dist-packages (from langchain-core<1.0.0,>=0.3.53->langchain-openai) (2.11.3)\n",
            "Requirement already satisfied: anyio<5,>=3.5.0 in /usr/local/lib/python3.11/dist-packages (from openai<2.0.0,>=1.68.2->langchain-openai) (4.9.0)\n",
            "Requirement already satisfied: distro<2,>=1.7.0 in /usr/local/lib/python3.11/dist-packages (from openai<2.0.0,>=1.68.2->langchain-openai) (1.9.0)\n",
            "Requirement already satisfied: httpx<1,>=0.23.0 in /usr/local/lib/python3.11/dist-packages (from openai<2.0.0,>=1.68.2->langchain-openai) (0.28.1)\n",
            "Requirement already satisfied: jiter<1,>=0.4.0 in /usr/local/lib/python3.11/dist-packages (from openai<2.0.0,>=1.68.2->langchain-openai) (0.9.0)\n",
            "Requirement already satisfied: sniffio in /usr/local/lib/python3.11/dist-packages (from openai<2.0.0,>=1.68.2->langchain-openai) (1.3.1)\n",
            "Requirement already satisfied: tqdm>4 in /usr/local/lib/python3.11/dist-packages (from openai<2.0.0,>=1.68.2->langchain-openai) (4.67.1)\n",
            "Requirement already satisfied: regex>=2022.1.18 in /usr/local/lib/python3.11/dist-packages (from tiktoken<1,>=0.7->langchain-openai) (2024.11.6)\n",
            "Requirement already satisfied: requests>=2.26.0 in /usr/local/lib/python3.11/dist-packages (from tiktoken<1,>=0.7->langchain-openai) (2.32.3)\n",
            "Requirement already satisfied: idna>=2.8 in /usr/local/lib/python3.11/dist-packages (from anyio<5,>=3.5.0->openai<2.0.0,>=1.68.2->langchain-openai) (3.10)\n",
            "Requirement already satisfied: certifi in /usr/local/lib/python3.11/dist-packages (from httpx<1,>=0.23.0->openai<2.0.0,>=1.68.2->langchain-openai) (2025.1.31)\n",
            "Requirement already satisfied: httpcore==1.* in /usr/local/lib/python3.11/dist-packages (from httpx<1,>=0.23.0->openai<2.0.0,>=1.68.2->langchain-openai) (1.0.8)\n",
            "Requirement already satisfied: h11<0.15,>=0.13 in /usr/local/lib/python3.11/dist-packages (from httpcore==1.*->httpx<1,>=0.23.0->openai<2.0.0,>=1.68.2->langchain-openai) (0.14.0)\n",
            "Requirement already satisfied: jsonpointer>=1.9 in /usr/local/lib/python3.11/dist-packages (from jsonpatch<2.0,>=1.33->langchain-core<1.0.0,>=0.3.53->langchain-openai) (3.0.0)\n",
            "Requirement already satisfied: orjson<4.0.0,>=3.9.14 in /usr/local/lib/python3.11/dist-packages (from langsmith<0.4,>=0.1.125->langchain-core<1.0.0,>=0.3.53->langchain-openai) (3.10.16)\n",
            "Requirement already satisfied: requests-toolbelt<2.0.0,>=1.0.0 in /usr/local/lib/python3.11/dist-packages (from langsmith<0.4,>=0.1.125->langchain-core<1.0.0,>=0.3.53->langchain-openai) (1.0.0)\n",
            "Requirement already satisfied: zstandard<0.24.0,>=0.23.0 in /usr/local/lib/python3.11/dist-packages (from langsmith<0.4,>=0.1.125->langchain-core<1.0.0,>=0.3.53->langchain-openai) (0.23.0)\n",
            "Requirement already satisfied: annotated-types>=0.6.0 in /usr/local/lib/python3.11/dist-packages (from pydantic<3.0.0,>=2.5.2->langchain-core<1.0.0,>=0.3.53->langchain-openai) (0.7.0)\n",
            "Requirement already satisfied: pydantic-core==2.33.1 in /usr/local/lib/python3.11/dist-packages (from pydantic<3.0.0,>=2.5.2->langchain-core<1.0.0,>=0.3.53->langchain-openai) (2.33.1)\n",
            "Requirement already satisfied: typing-inspection>=0.4.0 in /usr/local/lib/python3.11/dist-packages (from pydantic<3.0.0,>=2.5.2->langchain-core<1.0.0,>=0.3.53->langchain-openai) (0.4.0)\n",
            "Requirement already satisfied: charset-normalizer<4,>=2 in /usr/local/lib/python3.11/dist-packages (from requests>=2.26.0->tiktoken<1,>=0.7->langchain-openai) (3.4.1)\n",
            "Requirement already satisfied: urllib3<3,>=1.21.1 in /usr/local/lib/python3.11/dist-packages (from requests>=2.26.0->tiktoken<1,>=0.7->langchain-openai) (2.3.0)\n"
          ]
        }
      ]
    },
    {
      "cell_type": "markdown",
      "source": [
        "* **langchain-openai**는 LangChain을 사용할 때 OpenAI의 모델들 (예: GPT-3, GPT-4)을 활용할 수 있도록 도와주는 추가적인 패키지야. 이를 설치하면, LangChain에서 OpenAI 모델을 쉽게 호출하고 사용할 수 있어."
      ],
      "metadata": {
        "id": "kuSsfDumwmUd"
      }
    },
    {
      "cell_type": "code",
      "source": [
        "!pip install tiktoken"
      ],
      "metadata": {
        "colab": {
          "base_uri": "https://localhost:8080/"
        },
        "collapsed": true,
        "id": "gIXTr1aYwzO_",
        "outputId": "94d96248-805a-4436-8c9b-d82660408b91"
      },
      "execution_count": 7,
      "outputs": [
        {
          "output_type": "stream",
          "name": "stdout",
          "text": [
            "Requirement already satisfied: tiktoken in /usr/local/lib/python3.11/dist-packages (0.9.0)\n",
            "Requirement already satisfied: regex>=2022.1.18 in /usr/local/lib/python3.11/dist-packages (from tiktoken) (2024.11.6)\n",
            "Requirement already satisfied: requests>=2.26.0 in /usr/local/lib/python3.11/dist-packages (from tiktoken) (2.32.3)\n",
            "Requirement already satisfied: charset-normalizer<4,>=2 in /usr/local/lib/python3.11/dist-packages (from requests>=2.26.0->tiktoken) (3.4.1)\n",
            "Requirement already satisfied: idna<4,>=2.5 in /usr/local/lib/python3.11/dist-packages (from requests>=2.26.0->tiktoken) (3.10)\n",
            "Requirement already satisfied: urllib3<3,>=1.21.1 in /usr/local/lib/python3.11/dist-packages (from requests>=2.26.0->tiktoken) (2.3.0)\n",
            "Requirement already satisfied: certifi>=2017.4.17 in /usr/local/lib/python3.11/dist-packages (from requests>=2.26.0->tiktoken) (2025.1.31)\n"
          ]
        }
      ]
    },
    {
      "cell_type": "markdown",
      "source": [
        "# TikToken은 무엇인가?\n",
        "- TikToken은 OpenAI의 GPT 모델을 사용할 때, 텍스트를 토큰화(tokenize) 하는 데 사용되는 라이브러리야.\n",
        "\n",
        "## 토큰화(tokenization)**란?\n",
        "- 토큰화는 문장을 단어나 부분 단어 같은 토큰으로 분해하는 과정이야. 예를 들어, \"Hello, world!\"라는 문장을 컴퓨터가 이해할 수 있는 작은 단위(토큰)로 분해하는 거지.\n",
        "\n",
        "예시: \"Hello, world!\"를 토큰화하면, [\"Hello\", \",\", \"world\", \"!\"]처럼 문장이 여러 개의 토큰으로 나뉘어져.\n",
        "\n",
        "- OpenAI 모델에서 GPT-3, GPT-4 같은 모델들은 토큰 단위로 데이터를 처리해. 그 때문에 텍스트를 토큰으로 변환하고, 그 토큰들의 수를 관리하는 것이 중요해. tiktoken은 이러한 토큰화 작업을 효율적으로 수행할 수 있게 도와줘."
      ],
      "metadata": {
        "id": "pi66yLySzzm6"
      }
    }
  ]
}